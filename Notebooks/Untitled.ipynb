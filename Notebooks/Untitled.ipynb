{
 "cells": [
  {
   "cell_type": "code",
   "execution_count": 1,
   "id": "2194623b",
   "metadata": {},
   "outputs": [],
   "source": [
    "import pandas as pd\n",
    "import numpy as np\n",
    "import re\n",
    "import seaborn as sns\n",
    "import matplotlib.pyplot as plt\n",
    "from bs4 import BeautifulSoup as bs\n",
    "import requests"
   ]
  },
  {
   "cell_type": "code",
   "execution_count": 2,
   "id": "14a57870",
   "metadata": {},
   "outputs": [],
   "source": [
    "mun_codes = pd.read_csv('../Data/clean_data/mun_codes.csv')"
   ]
  },
  {
   "cell_type": "code",
   "execution_count": 3,
   "id": "0425271d",
   "metadata": {},
   "outputs": [],
   "source": [
    "prov_codes = pd.read_csv('../Data/clean_data/prov_codes.csv')"
   ]
  },
  {
   "cell_type": "code",
   "execution_count": 4,
   "id": "79821dd0",
   "metadata": {},
   "outputs": [],
   "source": [
    "provs = pd.read_csv('../Data/clean_data/contagio_provincias.csv')"
   ]
  },
  {
   "cell_type": "code",
   "execution_count": 5,
   "id": "536f9e18",
   "metadata": {},
   "outputs": [],
   "source": [
    "muns = pd.read_csv('../Data/clean_data/contagio_municipios.csv')"
   ]
  },
  {
   "cell_type": "code",
   "execution_count": 6,
   "id": "952ed1f0",
   "metadata": {
    "scrolled": true
   },
   "outputs": [
    {
     "data": {
      "text/html": [
       "<div>\n",
       "<style scoped>\n",
       "    .dataframe tbody tr th:only-of-type {\n",
       "        vertical-align: middle;\n",
       "    }\n",
       "\n",
       "    .dataframe tbody tr th {\n",
       "        vertical-align: top;\n",
       "    }\n",
       "\n",
       "    .dataframe thead th {\n",
       "        text-align: right;\n",
       "    }\n",
       "</style>\n",
       "<table border=\"1\" class=\"dataframe\">\n",
       "  <thead>\n",
       "    <tr style=\"text-align: right;\">\n",
       "      <th></th>\n",
       "      <th>com_id</th>\n",
       "      <th>prov_id</th>\n",
       "      <th>mun_id</th>\n",
       "      <th>NOMBRE</th>\n",
       "    </tr>\n",
       "  </thead>\n",
       "  <tbody>\n",
       "    <tr>\n",
       "      <th>0</th>\n",
       "      <td>16</td>\n",
       "      <td>1</td>\n",
       "      <td>1051</td>\n",
       "      <td>Agurain/Salvatierra</td>\n",
       "    </tr>\n",
       "  </tbody>\n",
       "</table>\n",
       "</div>"
      ],
      "text/plain": [
       "   com_id  prov_id  mun_id               NOMBRE\n",
       "0      16        1    1051  Agurain/Salvatierra"
      ]
     },
     "execution_count": 6,
     "metadata": {},
     "output_type": "execute_result"
    }
   ],
   "source": [
    "mun_codes.head(1)"
   ]
  },
  {
   "cell_type": "code",
   "execution_count": 11,
   "id": "d7b4e833",
   "metadata": {},
   "outputs": [
    {
     "name": "stdout",
     "output_type": "stream",
     "text": [
      "<class 'pandas.core.frame.DataFrame'>\n",
      "RangeIndex: 8132 entries, 0 to 8131\n",
      "Data columns (total 4 columns):\n",
      " #   Column   Non-Null Count  Dtype \n",
      "---  ------   --------------  ----- \n",
      " 0   com_id   8132 non-null   int64 \n",
      " 1   prov_id  8132 non-null   int64 \n",
      " 2   mun_id   8132 non-null   int64 \n",
      " 3   NOMBRE   8132 non-null   object\n",
      "dtypes: int64(3), object(1)\n",
      "memory usage: 254.3+ KB\n"
     ]
    }
   ],
   "source": [
    "mun_codes.info()"
   ]
  },
  {
   "cell_type": "code",
   "execution_count": 7,
   "id": "3efcbe2c",
   "metadata": {},
   "outputs": [
    {
     "data": {
      "text/html": [
       "<div>\n",
       "<style scoped>\n",
       "    .dataframe tbody tr th:only-of-type {\n",
       "        vertical-align: middle;\n",
       "    }\n",
       "\n",
       "    .dataframe tbody tr th {\n",
       "        vertical-align: top;\n",
       "    }\n",
       "\n",
       "    .dataframe thead th {\n",
       "        text-align: right;\n",
       "    }\n",
       "</style>\n",
       "<table border=\"1\" class=\"dataframe\">\n",
       "  <thead>\n",
       "    <tr style=\"text-align: right;\">\n",
       "      <th></th>\n",
       "      <th>prov_id</th>\n",
       "      <th>provincia</th>\n",
       "    </tr>\n",
       "  </thead>\n",
       "  <tbody>\n",
       "    <tr>\n",
       "      <th>0</th>\n",
       "      <td>1</td>\n",
       "      <td>Provincia de Alaba</td>\n",
       "    </tr>\n",
       "  </tbody>\n",
       "</table>\n",
       "</div>"
      ],
      "text/plain": [
       "   prov_id           provincia\n",
       "0        1  Provincia de Alaba"
      ]
     },
     "execution_count": 7,
     "metadata": {},
     "output_type": "execute_result"
    }
   ],
   "source": [
    "prov_codes.head(1)"
   ]
  },
  {
   "cell_type": "code",
   "execution_count": 8,
   "id": "590f9b1e",
   "metadata": {},
   "outputs": [
    {
     "data": {
      "text/html": [
       "<div>\n",
       "<style scoped>\n",
       "    .dataframe tbody tr th:only-of-type {\n",
       "        vertical-align: middle;\n",
       "    }\n",
       "\n",
       "    .dataframe tbody tr th {\n",
       "        vertical-align: top;\n",
       "    }\n",
       "\n",
       "    .dataframe thead th {\n",
       "        text-align: right;\n",
       "    }\n",
       "</style>\n",
       "<table border=\"1\" class=\"dataframe\">\n",
       "  <thead>\n",
       "    <tr style=\"text-align: right;\">\n",
       "      <th></th>\n",
       "      <th>prov_id</th>\n",
       "      <th>provincia</th>\n",
       "      <th>km2</th>\n",
       "      <th>total_prov</th>\n",
       "      <th>densidad</th>\n",
       "      <th>R0</th>\n",
       "      <th>prob_inf</th>\n",
       "    </tr>\n",
       "  </thead>\n",
       "  <tbody>\n",
       "    <tr>\n",
       "      <th>0</th>\n",
       "      <td>1</td>\n",
       "      <td>Provincia de Alaba</td>\n",
       "      <td>293470.0</td>\n",
       "      <td>336686.0</td>\n",
       "      <td>1.147259</td>\n",
       "      <td>5.736293</td>\n",
       "      <td>0.998614</td>\n",
       "    </tr>\n",
       "  </tbody>\n",
       "</table>\n",
       "</div>"
      ],
      "text/plain": [
       "   prov_id           provincia       km2  total_prov  densidad        R0  \\\n",
       "0        1  Provincia de Alaba  293470.0    336686.0  1.147259  5.736293   \n",
       "\n",
       "   prob_inf  \n",
       "0  0.998614  "
      ]
     },
     "execution_count": 8,
     "metadata": {},
     "output_type": "execute_result"
    }
   ],
   "source": [
    "provs.head(1)"
   ]
  },
  {
   "cell_type": "code",
   "execution_count": 9,
   "id": "dcfd7f27",
   "metadata": {},
   "outputs": [
    {
     "data": {
      "text/html": [
       "<div>\n",
       "<style scoped>\n",
       "    .dataframe tbody tr th:only-of-type {\n",
       "        vertical-align: middle;\n",
       "    }\n",
       "\n",
       "    .dataframe tbody tr th {\n",
       "        vertical-align: top;\n",
       "    }\n",
       "\n",
       "    .dataframe thead th {\n",
       "        text-align: right;\n",
       "    }\n",
       "</style>\n",
       "<table border=\"1\" class=\"dataframe\">\n",
       "  <thead>\n",
       "    <tr style=\"text-align: right;\">\n",
       "      <th></th>\n",
       "      <th>densidad</th>\n",
       "      <th>prov_id</th>\n",
       "      <th>mun_id</th>\n",
       "      <th>municipio</th>\n",
       "      <th>R0</th>\n",
       "      <th>prob_inf</th>\n",
       "    </tr>\n",
       "  </thead>\n",
       "  <tbody>\n",
       "    <tr>\n",
       "      <th>0</th>\n",
       "      <td>1.491228</td>\n",
       "      <td>1</td>\n",
       "      <td>1001</td>\n",
       "      <td>Alegria-dulantzi</td>\n",
       "      <td>7.45614</td>\n",
       "      <td>0.999985</td>\n",
       "    </tr>\n",
       "  </tbody>\n",
       "</table>\n",
       "</div>"
      ],
      "text/plain": [
       "   densidad  prov_id  mun_id         municipio       R0  prob_inf\n",
       "0  1.491228        1    1001  Alegria-dulantzi  7.45614  0.999985"
      ]
     },
     "execution_count": 9,
     "metadata": {},
     "output_type": "execute_result"
    }
   ],
   "source": [
    "muns.head(1)"
   ]
  }
 ],
 "metadata": {
  "kernelspec": {
   "display_name": "Python 3 (ipykernel)",
   "language": "python",
   "name": "python3"
  },
  "language_info": {
   "codemirror_mode": {
    "name": "ipython",
    "version": 3
   },
   "file_extension": ".py",
   "mimetype": "text/x-python",
   "name": "python",
   "nbconvert_exporter": "python",
   "pygments_lexer": "ipython3",
   "version": "3.11.5"
  }
 },
 "nbformat": 4,
 "nbformat_minor": 5
}
