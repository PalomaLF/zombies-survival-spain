{
 "cells": [
  {
   "cell_type": "code",
   "execution_count": 1,
   "id": "fc23262e",
   "metadata": {},
   "outputs": [],
   "source": [
    "import pandas as pd\n",
    "import numpy as np\n",
    "import re\n",
    "import seaborn as sns\n",
    "import matplotlib.pyplot as plt\n",
    "from bs4 import BeautifulSoup as bs\n",
    "import requests"
   ]
  },
  {
   "cell_type": "code",
   "execution_count": 2,
   "id": "914012cc",
   "metadata": {},
   "outputs": [],
   "source": [
    "densidad = pd.read_csv('../Data/clean_data/densidad_poblacion.csv')"
   ]
  },
  {
   "cell_type": "code",
   "execution_count": 3,
   "id": "b571a9d7",
   "metadata": {},
   "outputs": [
    {
     "data": {
      "text/html": [
       "<div>\n",
       "<style scoped>\n",
       "    .dataframe tbody tr th:only-of-type {\n",
       "        vertical-align: middle;\n",
       "    }\n",
       "\n",
       "    .dataframe tbody tr th {\n",
       "        vertical-align: top;\n",
       "    }\n",
       "\n",
       "    .dataframe thead th {\n",
       "        text-align: right;\n",
       "    }\n",
       "</style>\n",
       "<table border=\"1\" class=\"dataframe\">\n",
       "  <thead>\n",
       "    <tr style=\"text-align: right;\">\n",
       "      <th></th>\n",
       "      <th>prov_id</th>\n",
       "      <th>mun_id</th>\n",
       "      <th>total_2023</th>\n",
       "      <th>hombres_2023</th>\n",
       "      <th>mujeres_2023</th>\n",
       "      <th>ine_id</th>\n",
       "      <th>municipio</th>\n",
       "      <th>provincia</th>\n",
       "      <th>comunidad</th>\n",
       "      <th>km2</th>\n",
       "      <th>densidad</th>\n",
       "    </tr>\n",
       "  </thead>\n",
       "  <tbody>\n",
       "    <tr>\n",
       "      <th>0</th>\n",
       "      <td>1</td>\n",
       "      <td>1001</td>\n",
       "      <td>2975.0</td>\n",
       "      <td>1539.0</td>\n",
       "      <td>1436.0</td>\n",
       "      <td>1001000000</td>\n",
       "      <td>Alegria-dulantzi</td>\n",
       "      <td>Provincia de Araba</td>\n",
       "      <td>Pais Vasco</td>\n",
       "      <td>1995.0</td>\n",
       "      <td>1.491228</td>\n",
       "    </tr>\n",
       "  </tbody>\n",
       "</table>\n",
       "</div>"
      ],
      "text/plain": [
       "   prov_id  mun_id  total_2023  hombres_2023  mujeres_2023      ine_id  \\\n",
       "0        1    1001      2975.0        1539.0        1436.0  1001000000   \n",
       "\n",
       "          municipio           provincia   comunidad     km2  densidad  \n",
       "0  Alegria-dulantzi  Provincia de Araba  Pais Vasco  1995.0  1.491228  "
      ]
     },
     "execution_count": 3,
     "metadata": {},
     "output_type": "execute_result"
    }
   ],
   "source": [
    "densidad.head(1)"
   ]
  },
  {
   "cell_type": "code",
   "execution_count": 4,
   "id": "e4d94093",
   "metadata": {},
   "outputs": [],
   "source": [
    "contagio = pd.DataFrame(densidad.densidad)"
   ]
  },
  {
   "cell_type": "code",
   "execution_count": 5,
   "id": "1cc50762",
   "metadata": {
    "scrolled": true
   },
   "outputs": [],
   "source": [
    "contagio['prov_id'] = densidad.prov_id\n",
    "contagio['mun_id'] = densidad.mun_id"
   ]
  },
  {
   "cell_type": "code",
   "execution_count": 6,
   "id": "9bff8728",
   "metadata": {},
   "outputs": [
    {
     "data": {
      "text/html": [
       "<div>\n",
       "<style scoped>\n",
       "    .dataframe tbody tr th:only-of-type {\n",
       "        vertical-align: middle;\n",
       "    }\n",
       "\n",
       "    .dataframe tbody tr th {\n",
       "        vertical-align: top;\n",
       "    }\n",
       "\n",
       "    .dataframe thead th {\n",
       "        text-align: right;\n",
       "    }\n",
       "</style>\n",
       "<table border=\"1\" class=\"dataframe\">\n",
       "  <thead>\n",
       "    <tr style=\"text-align: right;\">\n",
       "      <th></th>\n",
       "      <th>densidad</th>\n",
       "      <th>prov_id</th>\n",
       "      <th>mun_id</th>\n",
       "    </tr>\n",
       "  </thead>\n",
       "  <tbody>\n",
       "    <tr>\n",
       "      <th>0</th>\n",
       "      <td>1.491228</td>\n",
       "      <td>1</td>\n",
       "      <td>1001</td>\n",
       "    </tr>\n",
       "    <tr>\n",
       "      <th>1</th>\n",
       "      <td>1.070368</td>\n",
       "      <td>1</td>\n",
       "      <td>1002</td>\n",
       "    </tr>\n",
       "    <tr>\n",
       "      <th>2</th>\n",
       "      <td>0.192302</td>\n",
       "      <td>1</td>\n",
       "      <td>1003</td>\n",
       "    </tr>\n",
       "    <tr>\n",
       "      <th>3</th>\n",
       "      <td>0.671308</td>\n",
       "      <td>1</td>\n",
       "      <td>1004</td>\n",
       "    </tr>\n",
       "    <tr>\n",
       "      <th>4</th>\n",
       "      <td>0.179289</td>\n",
       "      <td>1</td>\n",
       "      <td>1006</td>\n",
       "    </tr>\n",
       "    <tr>\n",
       "      <th>...</th>\n",
       "      <td>...</td>\n",
       "      <td>...</td>\n",
       "      <td>...</td>\n",
       "    </tr>\n",
       "    <tr>\n",
       "      <th>8158</th>\n",
       "      <td>0.012774</td>\n",
       "      <td>50</td>\n",
       "      <td>50901</td>\n",
       "    </tr>\n",
       "    <tr>\n",
       "      <th>8159</th>\n",
       "      <td>0.051418</td>\n",
       "      <td>50</td>\n",
       "      <td>50902</td>\n",
       "    </tr>\n",
       "    <tr>\n",
       "      <th>8160</th>\n",
       "      <td>0.320725</td>\n",
       "      <td>50</td>\n",
       "      <td>50903</td>\n",
       "    </tr>\n",
       "    <tr>\n",
       "      <th>8161</th>\n",
       "      <td>4488.594595</td>\n",
       "      <td>51</td>\n",
       "      <td>51001</td>\n",
       "    </tr>\n",
       "    <tr>\n",
       "      <th>8162</th>\n",
       "      <td>6950.487805</td>\n",
       "      <td>52</td>\n",
       "      <td>52001</td>\n",
       "    </tr>\n",
       "  </tbody>\n",
       "</table>\n",
       "<p>8163 rows × 3 columns</p>\n",
       "</div>"
      ],
      "text/plain": [
       "         densidad  prov_id  mun_id\n",
       "0        1.491228        1    1001\n",
       "1        1.070368        1    1002\n",
       "2        0.192302        1    1003\n",
       "3        0.671308        1    1004\n",
       "4        0.179289        1    1006\n",
       "...           ...      ...     ...\n",
       "8158     0.012774       50   50901\n",
       "8159     0.051418       50   50902\n",
       "8160     0.320725       50   50903\n",
       "8161  4488.594595       51   51001\n",
       "8162  6950.487805       52   52001\n",
       "\n",
       "[8163 rows x 3 columns]"
      ]
     },
     "execution_count": 6,
     "metadata": {},
     "output_type": "execute_result"
    }
   ],
   "source": [
    "contagio"
   ]
  },
  {
   "cell_type": "code",
   "execution_count": null,
   "id": "1839788b",
   "metadata": {},
   "outputs": [],
   "source": []
  }
 ],
 "metadata": {
  "kernelspec": {
   "display_name": "Python 3 (ipykernel)",
   "language": "python",
   "name": "python3"
  },
  "language_info": {
   "codemirror_mode": {
    "name": "ipython",
    "version": 3
   },
   "file_extension": ".py",
   "mimetype": "text/x-python",
   "name": "python",
   "nbconvert_exporter": "python",
   "pygments_lexer": "ipython3",
   "version": "3.11.5"
  }
 },
 "nbformat": 4,
 "nbformat_minor": 5
}
