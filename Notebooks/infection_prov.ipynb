{
 "cells": [
  {
   "cell_type": "code",
   "execution_count": 1,
   "id": "8cefb3b3",
   "metadata": {},
   "outputs": [],
   "source": [
    "import pandas as pd\n",
    "import numpy as np\n",
    "import re\n",
    "import seaborn as sns\n",
    "import matplotlib.pyplot as plt\n",
    "from bs4 import BeautifulSoup as bs\n",
    "import requests"
   ]
  },
  {
   "cell_type": "code",
   "execution_count": 2,
   "id": "4bc84c5f",
   "metadata": {},
   "outputs": [],
   "source": [
    "densidad = pd.read_csv('../Data/clean_data/densidad_poblacion.csv')"
   ]
  },
  {
   "cell_type": "code",
   "execution_count": 3,
   "id": "0e3dfe38",
   "metadata": {},
   "outputs": [
    {
     "data": {
      "text/html": [
       "<div>\n",
       "<style scoped>\n",
       "    .dataframe tbody tr th:only-of-type {\n",
       "        vertical-align: middle;\n",
       "    }\n",
       "\n",
       "    .dataframe tbody tr th {\n",
       "        vertical-align: top;\n",
       "    }\n",
       "\n",
       "    .dataframe thead th {\n",
       "        text-align: right;\n",
       "    }\n",
       "</style>\n",
       "<table border=\"1\" class=\"dataframe\">\n",
       "  <thead>\n",
       "    <tr style=\"text-align: right;\">\n",
       "      <th></th>\n",
       "      <th>prov_id</th>\n",
       "      <th>mun_id</th>\n",
       "      <th>total_2023</th>\n",
       "      <th>hombres_2023</th>\n",
       "      <th>mujeres_2023</th>\n",
       "      <th>ine_id</th>\n",
       "      <th>municipio</th>\n",
       "      <th>provincia</th>\n",
       "      <th>comunidad</th>\n",
       "      <th>km2</th>\n",
       "      <th>densidad</th>\n",
       "    </tr>\n",
       "  </thead>\n",
       "  <tbody>\n",
       "    <tr>\n",
       "      <th>0</th>\n",
       "      <td>1</td>\n",
       "      <td>1001</td>\n",
       "      <td>2975.0</td>\n",
       "      <td>1539.0</td>\n",
       "      <td>1436.0</td>\n",
       "      <td>1001000000</td>\n",
       "      <td>Alegria-dulantzi</td>\n",
       "      <td>Provincia de Araba</td>\n",
       "      <td>Pais Vasco</td>\n",
       "      <td>1995.0</td>\n",
       "      <td>1.491228</td>\n",
       "    </tr>\n",
       "  </tbody>\n",
       "</table>\n",
       "</div>"
      ],
      "text/plain": [
       "   prov_id  mun_id  total_2023  hombres_2023  mujeres_2023      ine_id  \\\n",
       "0        1    1001      2975.0        1539.0        1436.0  1001000000   \n",
       "\n",
       "          municipio           provincia   comunidad     km2  densidad  \n",
       "0  Alegria-dulantzi  Provincia de Araba  Pais Vasco  1995.0  1.491228  "
      ]
     },
     "execution_count": 3,
     "metadata": {},
     "output_type": "execute_result"
    }
   ],
   "source": [
    "densidad.head(1)"
   ]
  },
  {
   "cell_type": "code",
   "execution_count": 42,
   "id": "7d620a33",
   "metadata": {},
   "outputs": [],
   "source": [
    "contagio_mun = densidad.loc[:,['densidad', 'prov_id', 'mun_id']]"
   ]
  },
  {
   "cell_type": "code",
   "execution_count": 43,
   "id": "744564bf",
   "metadata": {},
   "outputs": [
    {
     "data": {
      "text/html": [
       "<div>\n",
       "<style scoped>\n",
       "    .dataframe tbody tr th:only-of-type {\n",
       "        vertical-align: middle;\n",
       "    }\n",
       "\n",
       "    .dataframe tbody tr th {\n",
       "        vertical-align: top;\n",
       "    }\n",
       "\n",
       "    .dataframe thead th {\n",
       "        text-align: right;\n",
       "    }\n",
       "</style>\n",
       "<table border=\"1\" class=\"dataframe\">\n",
       "  <thead>\n",
       "    <tr style=\"text-align: right;\">\n",
       "      <th></th>\n",
       "      <th>densidad</th>\n",
       "      <th>prov_id</th>\n",
       "      <th>mun_id</th>\n",
       "    </tr>\n",
       "  </thead>\n",
       "  <tbody>\n",
       "    <tr>\n",
       "      <th>0</th>\n",
       "      <td>1.491228</td>\n",
       "      <td>1</td>\n",
       "      <td>1001</td>\n",
       "    </tr>\n",
       "    <tr>\n",
       "      <th>1</th>\n",
       "      <td>1.070368</td>\n",
       "      <td>1</td>\n",
       "      <td>1002</td>\n",
       "    </tr>\n",
       "  </tbody>\n",
       "</table>\n",
       "</div>"
      ],
      "text/plain": [
       "   densidad  prov_id  mun_id\n",
       "0  1.491228        1    1001\n",
       "1  1.070368        1    1002"
      ]
     },
     "execution_count": 43,
     "metadata": {},
     "output_type": "execute_result"
    }
   ],
   "source": [
    "contagio_mun.head(2)"
   ]
  },
  {
   "cell_type": "code",
   "execution_count": 44,
   "id": "4ba855fd",
   "metadata": {},
   "outputs": [],
   "source": [
    "#calculating zombie virus estimated basic reproduction number (transmision rate): infectiousnes * population density\n",
    "\n",
    "c = 5 #constant representing infectiousness of the virus (For reference, flu is 1.3, measles is 12-18. We are picking 8 given that every human is susceptible of contracting the virus, there is no recovery and once bitten you are infected with a 100% probability.)"
   ]
  },
  {
   "cell_type": "code",
   "execution_count": 45,
   "id": "b98f3217",
   "metadata": {},
   "outputs": [],
   "source": [
    "contagio_mun['R0'] = contagio_mun.densidad*c"
   ]
  },
  {
   "cell_type": "code",
   "execution_count": 46,
   "id": "8a7a30f5",
   "metadata": {
    "scrolled": true
   },
   "outputs": [],
   "source": [
    "contagio_mun['prob_inf'] = 1 - np.exp((-1*contagio_mun.R0*contagio_mun.densidad))"
   ]
  },
  {
   "cell_type": "code",
   "execution_count": 48,
   "id": "c612f4ad",
   "metadata": {
    "scrolled": true
   },
   "outputs": [
    {
     "data": {
      "text/html": [
       "<div>\n",
       "<style scoped>\n",
       "    .dataframe tbody tr th:only-of-type {\n",
       "        vertical-align: middle;\n",
       "    }\n",
       "\n",
       "    .dataframe tbody tr th {\n",
       "        vertical-align: top;\n",
       "    }\n",
       "\n",
       "    .dataframe thead th {\n",
       "        text-align: right;\n",
       "    }\n",
       "</style>\n",
       "<table border=\"1\" class=\"dataframe\">\n",
       "  <thead>\n",
       "    <tr style=\"text-align: right;\">\n",
       "      <th></th>\n",
       "      <th>densidad</th>\n",
       "      <th>prov_id</th>\n",
       "      <th>mun_id</th>\n",
       "      <th>R0</th>\n",
       "      <th>prob_inf</th>\n",
       "    </tr>\n",
       "  </thead>\n",
       "  <tbody>\n",
       "    <tr>\n",
       "      <th>0</th>\n",
       "      <td>1.491228</td>\n",
       "      <td>1</td>\n",
       "      <td>1001</td>\n",
       "      <td>7.456140</td>\n",
       "      <td>0.999985</td>\n",
       "    </tr>\n",
       "    <tr>\n",
       "      <th>1</th>\n",
       "      <td>1.070368</td>\n",
       "      <td>1</td>\n",
       "      <td>1002</td>\n",
       "      <td>5.351842</td>\n",
       "      <td>0.996748</td>\n",
       "    </tr>\n",
       "    <tr>\n",
       "      <th>2</th>\n",
       "      <td>0.192302</td>\n",
       "      <td>1</td>\n",
       "      <td>1003</td>\n",
       "      <td>0.961512</td>\n",
       "      <td>0.168814</td>\n",
       "    </tr>\n",
       "  </tbody>\n",
       "</table>\n",
       "</div>"
      ],
      "text/plain": [
       "   densidad  prov_id  mun_id        R0  prob_inf\n",
       "0  1.491228        1    1001  7.456140  0.999985\n",
       "1  1.070368        1    1002  5.351842  0.996748\n",
       "2  0.192302        1    1003  0.961512  0.168814"
      ]
     },
     "execution_count": 48,
     "metadata": {},
     "output_type": "execute_result"
    }
   ],
   "source": [
    "contagio_mun.head(3)"
   ]
  },
  {
   "cell_type": "code",
   "execution_count": 90,
   "id": "ee154db5",
   "metadata": {},
   "outputs": [],
   "source": [
    "#contagio_mun.to_csv('contagio_municipios.csv', encoding='utf-8-sig', index = False)"
   ]
  },
  {
   "cell_type": "code",
   "execution_count": 54,
   "id": "1aa59e16",
   "metadata": {},
   "outputs": [],
   "source": [
    "contagio_prov = pd.DataFrame(densidad.prov_id)"
   ]
  },
  {
   "cell_type": "code",
   "execution_count": 55,
   "id": "da6c9510",
   "metadata": {},
   "outputs": [],
   "source": [
    "contagio_prov.drop_duplicates(inplace = True)"
   ]
  },
  {
   "cell_type": "code",
   "execution_count": 81,
   "id": "692e4adb",
   "metadata": {},
   "outputs": [],
   "source": [
    "contagio_prov['km2'] = contagio_prov.prov_id.apply(lambda x: sum(densidad[densidad.prov_id == x]['km2']))"
   ]
  },
  {
   "cell_type": "code",
   "execution_count": 86,
   "id": "48c2b571",
   "metadata": {},
   "outputs": [],
   "source": [
    "contagio_prov['total_prov'] = contagio_prov.prov_id.apply(lambda x: sum(densidad[densidad.prov_id == x]['total_2023']))"
   ]
  },
  {
   "cell_type": "code",
   "execution_count": 105,
   "id": "4256e555",
   "metadata": {
    "scrolled": true
   },
   "outputs": [
    {
     "data": {
      "text/html": [
       "<div>\n",
       "<style scoped>\n",
       "    .dataframe tbody tr th:only-of-type {\n",
       "        vertical-align: middle;\n",
       "    }\n",
       "\n",
       "    .dataframe tbody tr th {\n",
       "        vertical-align: top;\n",
       "    }\n",
       "\n",
       "    .dataframe thead th {\n",
       "        text-align: right;\n",
       "    }\n",
       "</style>\n",
       "<table border=\"1\" class=\"dataframe\">\n",
       "  <thead>\n",
       "    <tr style=\"text-align: right;\">\n",
       "      <th></th>\n",
       "      <th>prov_id</th>\n",
       "      <th>km2</th>\n",
       "      <th>total_prov</th>\n",
       "      <th>densidad</th>\n",
       "      <th>R0</th>\n",
       "      <th>prob_inf</th>\n",
       "    </tr>\n",
       "  </thead>\n",
       "  <tbody>\n",
       "    <tr>\n",
       "      <th>0</th>\n",
       "      <td>1</td>\n",
       "      <td>293470.0</td>\n",
       "      <td>336686.0</td>\n",
       "      <td>1.147259</td>\n",
       "      <td>1683430.0</td>\n",
       "      <td>1.0</td>\n",
       "    </tr>\n",
       "    <tr>\n",
       "      <th>51</th>\n",
       "      <td>2</td>\n",
       "      <td>1410921.0</td>\n",
       "      <td>387174.0</td>\n",
       "      <td>0.274412</td>\n",
       "      <td>967935.0</td>\n",
       "      <td>1.0</td>\n",
       "    </tr>\n",
       "  </tbody>\n",
       "</table>\n",
       "</div>"
      ],
      "text/plain": [
       "    prov_id        km2  total_prov  densidad         R0  prob_inf\n",
       "0         1   293470.0    336686.0  1.147259  1683430.0       1.0\n",
       "51        2  1410921.0    387174.0  0.274412   967935.0       1.0"
      ]
     },
     "execution_count": 105,
     "metadata": {},
     "output_type": "execute_result"
    }
   ],
   "source": [
    "contagio_prov['densidad'] = contagio_prov['total_prov'] / contagio_prov['km2']\n",
    "contagio_prov.head(2)"
   ]
  },
  {
   "cell_type": "code",
   "execution_count": 106,
   "id": "26c4f18a",
   "metadata": {},
   "outputs": [],
   "source": [
    "contagio_prov['R0'] = contagio_prov.densidad*c\n",
    "contagio_prov['prob_inf'] = 1 - np.exp((-1*contagio_prov.R0*contagio_prov.densidad))"
   ]
  },
  {
   "cell_type": "code",
   "execution_count": 108,
   "id": "5a0a864e",
   "metadata": {},
   "outputs": [
    {
     "data": {
      "text/html": [
       "<div>\n",
       "<style scoped>\n",
       "    .dataframe tbody tr th:only-of-type {\n",
       "        vertical-align: middle;\n",
       "    }\n",
       "\n",
       "    .dataframe tbody tr th {\n",
       "        vertical-align: top;\n",
       "    }\n",
       "\n",
       "    .dataframe thead th {\n",
       "        text-align: right;\n",
       "    }\n",
       "</style>\n",
       "<table border=\"1\" class=\"dataframe\">\n",
       "  <thead>\n",
       "    <tr style=\"text-align: right;\">\n",
       "      <th></th>\n",
       "      <th>prov_id</th>\n",
       "      <th>km2</th>\n",
       "      <th>total_prov</th>\n",
       "      <th>densidad</th>\n",
       "      <th>R0</th>\n",
       "      <th>prob_inf</th>\n",
       "    </tr>\n",
       "  </thead>\n",
       "  <tbody>\n",
       "    <tr>\n",
       "      <th>0</th>\n",
       "      <td>1</td>\n",
       "      <td>293470.0</td>\n",
       "      <td>336686.0</td>\n",
       "      <td>1.147259</td>\n",
       "      <td>5.736293</td>\n",
       "      <td>0.998614</td>\n",
       "    </tr>\n",
       "    <tr>\n",
       "      <th>51</th>\n",
       "      <td>2</td>\n",
       "      <td>1410921.0</td>\n",
       "      <td>387174.0</td>\n",
       "      <td>0.274412</td>\n",
       "      <td>1.372061</td>\n",
       "      <td>0.313748</td>\n",
       "    </tr>\n",
       "    <tr>\n",
       "      <th>138</th>\n",
       "      <td>3</td>\n",
       "      <td>532101.0</td>\n",
       "      <td>1950357.0</td>\n",
       "      <td>3.665389</td>\n",
       "      <td>18.326944</td>\n",
       "      <td>1.000000</td>\n",
       "    </tr>\n",
       "  </tbody>\n",
       "</table>\n",
       "</div>"
      ],
      "text/plain": [
       "     prov_id        km2  total_prov  densidad         R0  prob_inf\n",
       "0          1   293470.0    336686.0  1.147259   5.736293  0.998614\n",
       "51         2  1410921.0    387174.0  0.274412   1.372061  0.313748\n",
       "138        3   532101.0   1950357.0  3.665389  18.326944  1.000000"
      ]
     },
     "execution_count": 108,
     "metadata": {},
     "output_type": "execute_result"
    }
   ],
   "source": [
    "contagio_prov.head(3)"
   ]
  },
  {
   "cell_type": "code",
   "execution_count": 109,
   "id": "9392a6aa",
   "metadata": {},
   "outputs": [],
   "source": [
    "contagio_prov.to_csv('contagio_provincias.csv', encoding='utf-8-sig', index = False)"
   ]
  }
 ],
 "metadata": {
  "kernelspec": {
   "display_name": "Python 3 (ipykernel)",
   "language": "python",
   "name": "python3"
  },
  "language_info": {
   "codemirror_mode": {
    "name": "ipython",
    "version": 3
   },
   "file_extension": ".py",
   "mimetype": "text/x-python",
   "name": "python",
   "nbconvert_exporter": "python",
   "pygments_lexer": "ipython3",
   "version": "3.11.5"
  }
 },
 "nbformat": 4,
 "nbformat_minor": 5
}
