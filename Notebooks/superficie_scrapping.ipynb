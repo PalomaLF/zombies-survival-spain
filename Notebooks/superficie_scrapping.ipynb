{
 "cells": [
  {
   "cell_type": "code",
   "execution_count": null,
   "id": "2744c925",
   "metadata": {},
   "outputs": [],
   "source": [
    "import pandas as pd\n",
    "import numpy as np\n",
    "import re\n",
    "import seaborn as sns\n",
    "import matplotlib.pyplot as plt\n",
    "from bs4 import BeautifulSoup as bs\n",
    "import requests"
   ]
  },
  {
   "cell_type": "code",
   "execution_count": null,
   "id": "5b4a5d95",
   "metadata": {},
   "outputs": [],
   "source": [
    "table_2 = pd.read_html('https://15mpedia.org/w/index.php?title=Especial:Ask&offset=0&limit=9000&q=%5B%5BPage+has+default+form%3A%3AMunicipio%5D%5D+%5B%5Bpa%C3%ADs%3A%3AEspa%C3%B1a%5D%5D&p=format%3Dtable%2Fmainlabel%3DMunicipio%2Fintro%3D-3Cdiv-20style%3D%22text-2Dalign%3A-20center%3B%22-3E%2Foutro%3D-3C-2Fdiv-3E&po=%3F%3DMunicipio%23%0A%3FComarca%0A%3FProvincia%0A%3FComunidad+aut%C3%B3noma%3DCC.AA.%0A%3FAltitud%3DAltitud%3Cbr%2F%3E%28m.s.n.m.%29%0A%3FSuperficie%3DSuperficie%3Cbr%2F%3E%28km%C2%B2%29%0A%3FPoblaci%C3%B3n+en+2019%3DPoblaci%C3%B3n%3Cbr%2F%3E%282019%29%0A%3FDensidad+de+poblaci%C3%B3n+en+2019%3DDensidad%3Cbr%2F%3E%28hab.%2Fkm%C2%B2%29%0A&sort=superficie&order=desc')"
   ]
  },
  {
   "cell_type": "code",
   "execution_count": null,
   "id": "40f4687d",
   "metadata": {},
   "outputs": [],
   "source": [
    "table_2[0].to_csv('superficies.csv', index = False)"
   ]
  }
 ],
 "metadata": {
  "kernelspec": {
   "display_name": "Python 3 (ipykernel)",
   "language": "python",
   "name": "python3"
  },
  "language_info": {
   "codemirror_mode": {
    "name": "ipython",
    "version": 3
   },
   "file_extension": ".py",
   "mimetype": "text/x-python",
   "name": "python",
   "nbconvert_exporter": "python",
   "pygments_lexer": "ipython3",
   "version": "3.11.5"
  }
 },
 "nbformat": 4,
 "nbformat_minor": 5
}
