{
 "cells": [
  {
   "cell_type": "code",
   "execution_count": 1,
   "id": "1d7a4ab3",
   "metadata": {},
   "outputs": [],
   "source": [
    "import pandas as pd\n",
    "import numpy as np\n",
    "import re\n",
    "import seaborn as sns\n",
    "import matplotlib.pyplot as plt\n",
    "from bs4 import BeautifulSoup as bs\n",
    "import requests"
   ]
  },
  {
   "cell_type": "code",
   "execution_count": 2,
   "id": "2edea217",
   "metadata": {},
   "outputs": [],
   "source": [
    "densidad = pd.read_csv('../Data/clean_data/densidad_poblacion.csv')"
   ]
  },
  {
   "cell_type": "code",
   "execution_count": 3,
   "id": "ae988e4a",
   "metadata": {},
   "outputs": [
    {
     "data": {
      "text/html": [
       "<div>\n",
       "<style scoped>\n",
       "    .dataframe tbody tr th:only-of-type {\n",
       "        vertical-align: middle;\n",
       "    }\n",
       "\n",
       "    .dataframe tbody tr th {\n",
       "        vertical-align: top;\n",
       "    }\n",
       "\n",
       "    .dataframe thead th {\n",
       "        text-align: right;\n",
       "    }\n",
       "</style>\n",
       "<table border=\"1\" class=\"dataframe\">\n",
       "  <thead>\n",
       "    <tr style=\"text-align: right;\">\n",
       "      <th></th>\n",
       "      <th>prov_id</th>\n",
       "      <th>mun_id</th>\n",
       "      <th>total_2023</th>\n",
       "      <th>hombres_2023</th>\n",
       "      <th>mujeres_2023</th>\n",
       "      <th>ine_id</th>\n",
       "      <th>municipio</th>\n",
       "      <th>provincia</th>\n",
       "      <th>comunidad</th>\n",
       "      <th>km2</th>\n",
       "      <th>densidad</th>\n",
       "    </tr>\n",
       "  </thead>\n",
       "  <tbody>\n",
       "    <tr>\n",
       "      <th>0</th>\n",
       "      <td>1</td>\n",
       "      <td>1001</td>\n",
       "      <td>2975.0</td>\n",
       "      <td>1539.0</td>\n",
       "      <td>1436.0</td>\n",
       "      <td>1001000000</td>\n",
       "      <td>Alegria-dulantzi</td>\n",
       "      <td>Provincia de Alaba</td>\n",
       "      <td>Pais Vasco</td>\n",
       "      <td>1995.0</td>\n",
       "      <td>1.491228</td>\n",
       "    </tr>\n",
       "  </tbody>\n",
       "</table>\n",
       "</div>"
      ],
      "text/plain": [
       "   prov_id  mun_id  total_2023  hombres_2023  mujeres_2023      ine_id  \\\n",
       "0        1    1001      2975.0        1539.0        1436.0  1001000000   \n",
       "\n",
       "          municipio           provincia   comunidad     km2  densidad  \n",
       "0  Alegria-dulantzi  Provincia de Alaba  Pais Vasco  1995.0  1.491228  "
      ]
     },
     "execution_count": 3,
     "metadata": {},
     "output_type": "execute_result"
    }
   ],
   "source": [
    "densidad.head(1)"
   ]
  },
  {
   "cell_type": "code",
   "execution_count": 4,
   "id": "4f1da1b2",
   "metadata": {},
   "outputs": [],
   "source": [
    "contagio_mun = densidad.loc[:,['densidad', 'prov_id', 'mun_id', 'municipio']]"
   ]
  },
  {
   "cell_type": "code",
   "execution_count": 5,
   "id": "55c69797",
   "metadata": {},
   "outputs": [
    {
     "data": {
      "text/html": [
       "<div>\n",
       "<style scoped>\n",
       "    .dataframe tbody tr th:only-of-type {\n",
       "        vertical-align: middle;\n",
       "    }\n",
       "\n",
       "    .dataframe tbody tr th {\n",
       "        vertical-align: top;\n",
       "    }\n",
       "\n",
       "    .dataframe thead th {\n",
       "        text-align: right;\n",
       "    }\n",
       "</style>\n",
       "<table border=\"1\" class=\"dataframe\">\n",
       "  <thead>\n",
       "    <tr style=\"text-align: right;\">\n",
       "      <th></th>\n",
       "      <th>densidad</th>\n",
       "      <th>prov_id</th>\n",
       "      <th>mun_id</th>\n",
       "      <th>municipio</th>\n",
       "    </tr>\n",
       "  </thead>\n",
       "  <tbody>\n",
       "    <tr>\n",
       "      <th>0</th>\n",
       "      <td>1.491228</td>\n",
       "      <td>1</td>\n",
       "      <td>1001</td>\n",
       "      <td>Alegria-dulantzi</td>\n",
       "    </tr>\n",
       "    <tr>\n",
       "      <th>1</th>\n",
       "      <td>1.070368</td>\n",
       "      <td>1</td>\n",
       "      <td>1002</td>\n",
       "      <td>Amurrio</td>\n",
       "    </tr>\n",
       "  </tbody>\n",
       "</table>\n",
       "</div>"
      ],
      "text/plain": [
       "   densidad  prov_id  mun_id         municipio\n",
       "0  1.491228        1    1001  Alegria-dulantzi\n",
       "1  1.070368        1    1002           Amurrio"
      ]
     },
     "execution_count": 5,
     "metadata": {},
     "output_type": "execute_result"
    }
   ],
   "source": [
    "contagio_mun.head(2)"
   ]
  },
  {
   "cell_type": "code",
   "execution_count": 6,
   "id": "2637efe0",
   "metadata": {},
   "outputs": [],
   "source": [
    "#calculating zombie virus estimated basic reproduction number (transmision rate): infectiousnes * population density\n",
    "\n",
    "c = 5 #constant representing infectiousness of the virus (For reference, flu is 1.3, measles is 12-18. We are picking 8 given that every human is susceptible of contracting the virus, there is no recovery and once bitten you are infected with a 100% probability.)"
   ]
  },
  {
   "cell_type": "code",
   "execution_count": 7,
   "id": "191fcd8e",
   "metadata": {},
   "outputs": [],
   "source": [
    "contagio_mun['R0'] = contagio_mun.densidad*c"
   ]
  },
  {
   "cell_type": "code",
   "execution_count": 8,
   "id": "71b9d2ab",
   "metadata": {
    "scrolled": true
   },
   "outputs": [],
   "source": [
    "contagio_mun['prob_inf'] = 1 - np.exp((-1*contagio_mun.R0*contagio_mun.densidad))"
   ]
  },
  {
   "cell_type": "code",
   "execution_count": 9,
   "id": "20dc8935",
   "metadata": {
    "scrolled": true
   },
   "outputs": [
    {
     "data": {
      "text/html": [
       "<div>\n",
       "<style scoped>\n",
       "    .dataframe tbody tr th:only-of-type {\n",
       "        vertical-align: middle;\n",
       "    }\n",
       "\n",
       "    .dataframe tbody tr th {\n",
       "        vertical-align: top;\n",
       "    }\n",
       "\n",
       "    .dataframe thead th {\n",
       "        text-align: right;\n",
       "    }\n",
       "</style>\n",
       "<table border=\"1\" class=\"dataframe\">\n",
       "  <thead>\n",
       "    <tr style=\"text-align: right;\">\n",
       "      <th></th>\n",
       "      <th>densidad</th>\n",
       "      <th>prov_id</th>\n",
       "      <th>mun_id</th>\n",
       "      <th>municipio</th>\n",
       "      <th>R0</th>\n",
       "      <th>prob_inf</th>\n",
       "    </tr>\n",
       "  </thead>\n",
       "  <tbody>\n",
       "    <tr>\n",
       "      <th>0</th>\n",
       "      <td>1.491228</td>\n",
       "      <td>1</td>\n",
       "      <td>1001</td>\n",
       "      <td>Alegria-dulantzi</td>\n",
       "      <td>7.456140</td>\n",
       "      <td>0.999985</td>\n",
       "    </tr>\n",
       "    <tr>\n",
       "      <th>1</th>\n",
       "      <td>1.070368</td>\n",
       "      <td>1</td>\n",
       "      <td>1002</td>\n",
       "      <td>Amurrio</td>\n",
       "      <td>5.351842</td>\n",
       "      <td>0.996748</td>\n",
       "    </tr>\n",
       "    <tr>\n",
       "      <th>2</th>\n",
       "      <td>0.192302</td>\n",
       "      <td>1</td>\n",
       "      <td>1003</td>\n",
       "      <td>Aramaio</td>\n",
       "      <td>0.961512</td>\n",
       "      <td>0.168814</td>\n",
       "    </tr>\n",
       "  </tbody>\n",
       "</table>\n",
       "</div>"
      ],
      "text/plain": [
       "   densidad  prov_id  mun_id         municipio        R0  prob_inf\n",
       "0  1.491228        1    1001  Alegria-dulantzi  7.456140  0.999985\n",
       "1  1.070368        1    1002           Amurrio  5.351842  0.996748\n",
       "2  0.192302        1    1003           Aramaio  0.961512  0.168814"
      ]
     },
     "execution_count": 9,
     "metadata": {},
     "output_type": "execute_result"
    }
   ],
   "source": [
    "contagio_mun.head(3)"
   ]
  },
  {
   "cell_type": "code",
   "execution_count": 20,
   "id": "15697d29",
   "metadata": {},
   "outputs": [],
   "source": [
    "#contagio_mun.to_csv('contagio_municipios.csv', encoding='utf-8-sig', index = False)"
   ]
  },
  {
   "cell_type": "code",
   "execution_count": 11,
   "id": "796a2818",
   "metadata": {},
   "outputs": [],
   "source": [
    "contagio_prov = densidad.loc[:,['prov_id', 'provincia']]"
   ]
  },
  {
   "cell_type": "code",
   "execution_count": 12,
   "id": "a5f40447",
   "metadata": {},
   "outputs": [],
   "source": [
    "contagio_prov.drop_duplicates(inplace = True)"
   ]
  },
  {
   "cell_type": "code",
   "execution_count": 13,
   "id": "c2b01774",
   "metadata": {},
   "outputs": [],
   "source": [
    "contagio_prov['km2'] = contagio_prov.prov_id.apply(lambda x: sum(densidad[densidad.prov_id == x]['km2']))"
   ]
  },
  {
   "cell_type": "code",
   "execution_count": 14,
   "id": "4d4bdc54",
   "metadata": {},
   "outputs": [],
   "source": [
    "contagio_prov['total_prov'] = contagio_prov.prov_id.apply(lambda x: sum(densidad[densidad.prov_id == x]['total_2023']))"
   ]
  },
  {
   "cell_type": "code",
   "execution_count": 15,
   "id": "0742cb14",
   "metadata": {
    "scrolled": true
   },
   "outputs": [
    {
     "data": {
      "text/html": [
       "<div>\n",
       "<style scoped>\n",
       "    .dataframe tbody tr th:only-of-type {\n",
       "        vertical-align: middle;\n",
       "    }\n",
       "\n",
       "    .dataframe tbody tr th {\n",
       "        vertical-align: top;\n",
       "    }\n",
       "\n",
       "    .dataframe thead th {\n",
       "        text-align: right;\n",
       "    }\n",
       "</style>\n",
       "<table border=\"1\" class=\"dataframe\">\n",
       "  <thead>\n",
       "    <tr style=\"text-align: right;\">\n",
       "      <th></th>\n",
       "      <th>prov_id</th>\n",
       "      <th>provincia</th>\n",
       "      <th>km2</th>\n",
       "      <th>total_prov</th>\n",
       "      <th>densidad</th>\n",
       "    </tr>\n",
       "  </thead>\n",
       "  <tbody>\n",
       "    <tr>\n",
       "      <th>0</th>\n",
       "      <td>1</td>\n",
       "      <td>Provincia de Alaba</td>\n",
       "      <td>293470.00</td>\n",
       "      <td>336686.0</td>\n",
       "      <td>1.147259</td>\n",
       "    </tr>\n",
       "    <tr>\n",
       "      <th>51</th>\n",
       "      <td>2</td>\n",
       "      <td>Provincia de Albacete</td>\n",
       "      <td>1299348.99</td>\n",
       "      <td>387174.0</td>\n",
       "      <td>0.297975</td>\n",
       "    </tr>\n",
       "  </tbody>\n",
       "</table>\n",
       "</div>"
      ],
      "text/plain": [
       "    prov_id              provincia         km2  total_prov  densidad\n",
       "0         1     Provincia de Alaba   293470.00    336686.0  1.147259\n",
       "51        2  Provincia de Albacete  1299348.99    387174.0  0.297975"
      ]
     },
     "execution_count": 15,
     "metadata": {},
     "output_type": "execute_result"
    }
   ],
   "source": [
    "contagio_prov['densidad'] = contagio_prov['total_prov'] / contagio_prov['km2']\n",
    "contagio_prov.head(2)"
   ]
  },
  {
   "cell_type": "code",
   "execution_count": 16,
   "id": "9e67dacb",
   "metadata": {},
   "outputs": [],
   "source": [
    "contagio_prov['R0'] = contagio_prov.densidad*c\n",
    "contagio_prov['prob_inf'] = 1 - np.exp((-1*contagio_prov.R0*contagio_prov.densidad))"
   ]
  },
  {
   "cell_type": "code",
   "execution_count": 17,
   "id": "552202f7",
   "metadata": {},
   "outputs": [
    {
     "data": {
      "text/html": [
       "<div>\n",
       "<style scoped>\n",
       "    .dataframe tbody tr th:only-of-type {\n",
       "        vertical-align: middle;\n",
       "    }\n",
       "\n",
       "    .dataframe tbody tr th {\n",
       "        vertical-align: top;\n",
       "    }\n",
       "\n",
       "    .dataframe thead th {\n",
       "        text-align: right;\n",
       "    }\n",
       "</style>\n",
       "<table border=\"1\" class=\"dataframe\">\n",
       "  <thead>\n",
       "    <tr style=\"text-align: right;\">\n",
       "      <th></th>\n",
       "      <th>prov_id</th>\n",
       "      <th>provincia</th>\n",
       "      <th>km2</th>\n",
       "      <th>total_prov</th>\n",
       "      <th>densidad</th>\n",
       "      <th>R0</th>\n",
       "      <th>prob_inf</th>\n",
       "    </tr>\n",
       "  </thead>\n",
       "  <tbody>\n",
       "    <tr>\n",
       "      <th>0</th>\n",
       "      <td>1</td>\n",
       "      <td>Provincia de Alaba</td>\n",
       "      <td>293470.00</td>\n",
       "      <td>336686.0</td>\n",
       "      <td>1.147259</td>\n",
       "      <td>5.736293</td>\n",
       "      <td>0.998614</td>\n",
       "    </tr>\n",
       "    <tr>\n",
       "      <th>51</th>\n",
       "      <td>2</td>\n",
       "      <td>Provincia de Albacete</td>\n",
       "      <td>1299348.99</td>\n",
       "      <td>387174.0</td>\n",
       "      <td>0.297975</td>\n",
       "      <td>1.489877</td>\n",
       "      <td>0.358500</td>\n",
       "    </tr>\n",
       "    <tr>\n",
       "      <th>123</th>\n",
       "      <td>2</td>\n",
       "      <td>Provincia de Alicante</td>\n",
       "      <td>1299348.99</td>\n",
       "      <td>387174.0</td>\n",
       "      <td>0.297975</td>\n",
       "      <td>1.489877</td>\n",
       "      <td>0.358500</td>\n",
       "    </tr>\n",
       "  </tbody>\n",
       "</table>\n",
       "</div>"
      ],
      "text/plain": [
       "     prov_id              provincia         km2  total_prov  densidad  \\\n",
       "0          1     Provincia de Alaba   293470.00    336686.0  1.147259   \n",
       "51         2  Provincia de Albacete  1299348.99    387174.0  0.297975   \n",
       "123        2  Provincia de Alicante  1299348.99    387174.0  0.297975   \n",
       "\n",
       "           R0  prob_inf  \n",
       "0    5.736293  0.998614  \n",
       "51   1.489877  0.358500  \n",
       "123  1.489877  0.358500  "
      ]
     },
     "execution_count": 17,
     "metadata": {},
     "output_type": "execute_result"
    }
   ],
   "source": [
    "contagio_prov.head(3)"
   ]
  },
  {
   "cell_type": "code",
   "execution_count": 19,
   "id": "3c681469",
   "metadata": {},
   "outputs": [],
   "source": [
    "#contagio_prov.to_csv('contagio_provincias.csv', encoding='utf-8-sig', index = False)"
   ]
  },
  {
   "cell_type": "code",
   "execution_count": 21,
   "id": "6e3e6b08",
   "metadata": {},
   "outputs": [],
   "source": [
    "prov_codes = contagio_prov.loc[:,['prov_id','provincia']]"
   ]
  },
  {
   "cell_type": "code",
   "execution_count": 23,
   "id": "a77dc725",
   "metadata": {},
   "outputs": [],
   "source": [
    "#prov_codes.to_csv('prov_codes.csv', encoding='utf-8-sig', index = False)"
   ]
  }
 ],
 "metadata": {
  "kernelspec": {
   "display_name": "Python 3 (ipykernel)",
   "language": "python",
   "name": "python3"
  },
  "language_info": {
   "codemirror_mode": {
    "name": "ipython",
    "version": 3
   },
   "file_extension": ".py",
   "mimetype": "text/x-python",
   "name": "python",
   "nbconvert_exporter": "python",
   "pygments_lexer": "ipython3",
   "version": "3.11.5"
  }
 },
 "nbformat": 4,
 "nbformat_minor": 5
}
