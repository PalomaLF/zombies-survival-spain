{
 "cells": [
  {
   "cell_type": "code",
   "execution_count": 1,
   "id": "1d7a4ab3",
   "metadata": {},
   "outputs": [],
   "source": [
    "import pandas as pd\n",
    "import numpy as np\n",
    "import re\n",
    "import seaborn as sns\n",
    "import matplotlib.pyplot as plt\n",
    "from bs4 import BeautifulSoup as bs\n",
    "import requests"
   ]
  },
  {
   "cell_type": "code",
   "execution_count": 2,
   "id": "2edea217",
   "metadata": {},
   "outputs": [],
   "source": [
    "densidad = pd.read_csv('../Data/clean_data/densidad_poblacion.csv')"
   ]
  },
  {
   "cell_type": "code",
   "execution_count": 3,
   "id": "ae988e4a",
   "metadata": {},
   "outputs": [
    {
     "data": {
      "text/html": [
       "<div>\n",
       "<style scoped>\n",
       "    .dataframe tbody tr th:only-of-type {\n",
       "        vertical-align: middle;\n",
       "    }\n",
       "\n",
       "    .dataframe tbody tr th {\n",
       "        vertical-align: top;\n",
       "    }\n",
       "\n",
       "    .dataframe thead th {\n",
       "        text-align: right;\n",
       "    }\n",
       "</style>\n",
       "<table border=\"1\" class=\"dataframe\">\n",
       "  <thead>\n",
       "    <tr style=\"text-align: right;\">\n",
       "      <th></th>\n",
       "      <th>prov_id</th>\n",
       "      <th>mun_id</th>\n",
       "      <th>total_2023</th>\n",
       "      <th>hombres_2023</th>\n",
       "      <th>mujeres_2023</th>\n",
       "      <th>ine_id</th>\n",
       "      <th>municipio</th>\n",
       "      <th>km2</th>\n",
       "      <th>densidad</th>\n",
       "    </tr>\n",
       "  </thead>\n",
       "  <tbody>\n",
       "    <tr>\n",
       "      <th>0</th>\n",
       "      <td>1</td>\n",
       "      <td>1001</td>\n",
       "      <td>2975.0</td>\n",
       "      <td>1539.0</td>\n",
       "      <td>1436.0</td>\n",
       "      <td>1001000000</td>\n",
       "      <td>Alegria-dulantzi</td>\n",
       "      <td>1995.0</td>\n",
       "      <td>1.491228</td>\n",
       "    </tr>\n",
       "  </tbody>\n",
       "</table>\n",
       "</div>"
      ],
      "text/plain": [
       "   prov_id  mun_id  total_2023  hombres_2023  mujeres_2023      ine_id  \\\n",
       "0        1    1001      2975.0        1539.0        1436.0  1001000000   \n",
       "\n",
       "          municipio     km2  densidad  \n",
       "0  Alegria-dulantzi  1995.0  1.491228  "
      ]
     },
     "execution_count": 3,
     "metadata": {},
     "output_type": "execute_result"
    }
   ],
   "source": [
    "densidad.head(1)"
   ]
  },
  {
   "cell_type": "code",
   "execution_count": 4,
   "id": "4f1da1b2",
   "metadata": {},
   "outputs": [],
   "source": [
    "contagio_mun = densidad.loc[:,['densidad', 'prov_id', 'mun_id', 'municipio']]"
   ]
  },
  {
   "cell_type": "code",
   "execution_count": 5,
   "id": "55c69797",
   "metadata": {},
   "outputs": [
    {
     "data": {
      "text/html": [
       "<div>\n",
       "<style scoped>\n",
       "    .dataframe tbody tr th:only-of-type {\n",
       "        vertical-align: middle;\n",
       "    }\n",
       "\n",
       "    .dataframe tbody tr th {\n",
       "        vertical-align: top;\n",
       "    }\n",
       "\n",
       "    .dataframe thead th {\n",
       "        text-align: right;\n",
       "    }\n",
       "</style>\n",
       "<table border=\"1\" class=\"dataframe\">\n",
       "  <thead>\n",
       "    <tr style=\"text-align: right;\">\n",
       "      <th></th>\n",
       "      <th>densidad</th>\n",
       "      <th>prov_id</th>\n",
       "      <th>mun_id</th>\n",
       "      <th>municipio</th>\n",
       "    </tr>\n",
       "  </thead>\n",
       "  <tbody>\n",
       "    <tr>\n",
       "      <th>0</th>\n",
       "      <td>1.491228</td>\n",
       "      <td>1</td>\n",
       "      <td>1001</td>\n",
       "      <td>Alegria-dulantzi</td>\n",
       "    </tr>\n",
       "    <tr>\n",
       "      <th>1</th>\n",
       "      <td>1.070368</td>\n",
       "      <td>1</td>\n",
       "      <td>1002</td>\n",
       "      <td>Amurrio</td>\n",
       "    </tr>\n",
       "  </tbody>\n",
       "</table>\n",
       "</div>"
      ],
      "text/plain": [
       "   densidad  prov_id  mun_id         municipio\n",
       "0  1.491228        1    1001  Alegria-dulantzi\n",
       "1  1.070368        1    1002           Amurrio"
      ]
     },
     "execution_count": 5,
     "metadata": {},
     "output_type": "execute_result"
    }
   ],
   "source": [
    "contagio_mun.head(2)"
   ]
  },
  {
   "cell_type": "code",
   "execution_count": 6,
   "id": "2637efe0",
   "metadata": {},
   "outputs": [],
   "source": [
    "#calculating zombie virus estimated basic reproduction number (transmision rate): infectiousnes * population density\n",
    "\n",
    "c = 5 #constant representing infectiousness of the virus (For reference, flu is 1.3, measles is 12-18. We are picking 8 given that every human is susceptible of contracting the virus, there is no recovery and once bitten you are infected with a 100% probability.)"
   ]
  },
  {
   "cell_type": "code",
   "execution_count": 7,
   "id": "191fcd8e",
   "metadata": {},
   "outputs": [],
   "source": [
    "contagio_mun['R0'] = contagio_mun.densidad*c"
   ]
  },
  {
   "cell_type": "code",
   "execution_count": 8,
   "id": "71b9d2ab",
   "metadata": {
    "scrolled": true
   },
   "outputs": [],
   "source": [
    "contagio_mun['prob_inf'] = 1 - np.exp((-1*contagio_mun.R0*contagio_mun.densidad))"
   ]
  },
  {
   "cell_type": "code",
   "execution_count": 9,
   "id": "20dc8935",
   "metadata": {
    "scrolled": true
   },
   "outputs": [
    {
     "data": {
      "text/html": [
       "<div>\n",
       "<style scoped>\n",
       "    .dataframe tbody tr th:only-of-type {\n",
       "        vertical-align: middle;\n",
       "    }\n",
       "\n",
       "    .dataframe tbody tr th {\n",
       "        vertical-align: top;\n",
       "    }\n",
       "\n",
       "    .dataframe thead th {\n",
       "        text-align: right;\n",
       "    }\n",
       "</style>\n",
       "<table border=\"1\" class=\"dataframe\">\n",
       "  <thead>\n",
       "    <tr style=\"text-align: right;\">\n",
       "      <th></th>\n",
       "      <th>densidad</th>\n",
       "      <th>prov_id</th>\n",
       "      <th>mun_id</th>\n",
       "      <th>municipio</th>\n",
       "      <th>R0</th>\n",
       "      <th>prob_inf</th>\n",
       "    </tr>\n",
       "  </thead>\n",
       "  <tbody>\n",
       "    <tr>\n",
       "      <th>0</th>\n",
       "      <td>1.491228</td>\n",
       "      <td>1</td>\n",
       "      <td>1001</td>\n",
       "      <td>Alegria-dulantzi</td>\n",
       "      <td>7.456140</td>\n",
       "      <td>0.999985</td>\n",
       "    </tr>\n",
       "    <tr>\n",
       "      <th>1</th>\n",
       "      <td>1.070368</td>\n",
       "      <td>1</td>\n",
       "      <td>1002</td>\n",
       "      <td>Amurrio</td>\n",
       "      <td>5.351842</td>\n",
       "      <td>0.996748</td>\n",
       "    </tr>\n",
       "    <tr>\n",
       "      <th>2</th>\n",
       "      <td>0.192302</td>\n",
       "      <td>1</td>\n",
       "      <td>1003</td>\n",
       "      <td>Aramaio</td>\n",
       "      <td>0.961512</td>\n",
       "      <td>0.168814</td>\n",
       "    </tr>\n",
       "  </tbody>\n",
       "</table>\n",
       "</div>"
      ],
      "text/plain": [
       "   densidad  prov_id  mun_id         municipio        R0  prob_inf\n",
       "0  1.491228        1    1001  Alegria-dulantzi  7.456140  0.999985\n",
       "1  1.070368        1    1002           Amurrio  5.351842  0.996748\n",
       "2  0.192302        1    1003           Aramaio  0.961512  0.168814"
      ]
     },
     "execution_count": 9,
     "metadata": {},
     "output_type": "execute_result"
    }
   ],
   "source": [
    "contagio_mun.head(3)"
   ]
  },
  {
   "cell_type": "code",
   "execution_count": 10,
   "id": "15697d29",
   "metadata": {},
   "outputs": [],
   "source": [
    "#contagio_mun.to_csv('contagio_municipios.csv', encoding='utf-8-sig', index = False)"
   ]
  },
  {
   "cell_type": "code",
   "execution_count": 11,
   "id": "1b5035ea",
   "metadata": {},
   "outputs": [],
   "source": [
    "contagio_prov = pd.read_csv('../Data/clean_data/cod_provincias.csv')"
   ]
  },
  {
   "cell_type": "code",
   "execution_count": 12,
   "id": "14747afd",
   "metadata": {
    "scrolled": false
   },
   "outputs": [
    {
     "data": {
      "text/html": [
       "<div>\n",
       "<style scoped>\n",
       "    .dataframe tbody tr th:only-of-type {\n",
       "        vertical-align: middle;\n",
       "    }\n",
       "\n",
       "    .dataframe tbody tr th {\n",
       "        vertical-align: top;\n",
       "    }\n",
       "\n",
       "    .dataframe thead th {\n",
       "        text-align: right;\n",
       "    }\n",
       "</style>\n",
       "<table border=\"1\" class=\"dataframe\">\n",
       "  <thead>\n",
       "    <tr style=\"text-align: right;\">\n",
       "      <th></th>\n",
       "      <th>prov_id</th>\n",
       "      <th>com_id</th>\n",
       "      <th>provincia</th>\n",
       "    </tr>\n",
       "  </thead>\n",
       "  <tbody>\n",
       "    <tr>\n",
       "      <th>0</th>\n",
       "      <td>4</td>\n",
       "      <td>1</td>\n",
       "      <td>Almería</td>\n",
       "    </tr>\n",
       "    <tr>\n",
       "      <th>1</th>\n",
       "      <td>11</td>\n",
       "      <td>1</td>\n",
       "      <td>Cádiz</td>\n",
       "    </tr>\n",
       "  </tbody>\n",
       "</table>\n",
       "</div>"
      ],
      "text/plain": [
       "   prov_id  com_id provincia\n",
       "0        4       1   Almería\n",
       "1       11       1     Cádiz"
      ]
     },
     "execution_count": 12,
     "metadata": {},
     "output_type": "execute_result"
    }
   ],
   "source": [
    "contagio_prov.head(2)"
   ]
  },
  {
   "cell_type": "code",
   "execution_count": 13,
   "id": "468ec00b",
   "metadata": {},
   "outputs": [],
   "source": [
    "#calculamos los datos de superficie, población total y densidad por provincia a partir de los datos por municipio"
   ]
  },
  {
   "cell_type": "code",
   "execution_count": 14,
   "id": "c2b01774",
   "metadata": {},
   "outputs": [],
   "source": [
    "contagio_prov['km2'] = contagio_prov.prov_id.apply(lambda x: sum(densidad[densidad.prov_id == x]['km2']))"
   ]
  },
  {
   "cell_type": "code",
   "execution_count": 15,
   "id": "4d4bdc54",
   "metadata": {},
   "outputs": [],
   "source": [
    "contagio_prov['total_prov'] = contagio_prov.prov_id.apply(lambda x: sum(densidad[densidad.prov_id == x]['total_2023']))"
   ]
  },
  {
   "cell_type": "code",
   "execution_count": 16,
   "id": "0742cb14",
   "metadata": {
    "scrolled": false
   },
   "outputs": [
    {
     "data": {
      "text/html": [
       "<div>\n",
       "<style scoped>\n",
       "    .dataframe tbody tr th:only-of-type {\n",
       "        vertical-align: middle;\n",
       "    }\n",
       "\n",
       "    .dataframe tbody tr th {\n",
       "        vertical-align: top;\n",
       "    }\n",
       "\n",
       "    .dataframe thead th {\n",
       "        text-align: right;\n",
       "    }\n",
       "</style>\n",
       "<table border=\"1\" class=\"dataframe\">\n",
       "  <thead>\n",
       "    <tr style=\"text-align: right;\">\n",
       "      <th></th>\n",
       "      <th>prov_id</th>\n",
       "      <th>com_id</th>\n",
       "      <th>provincia</th>\n",
       "      <th>km2</th>\n",
       "      <th>total_prov</th>\n",
       "      <th>densidad</th>\n",
       "    </tr>\n",
       "  </thead>\n",
       "  <tbody>\n",
       "    <tr>\n",
       "      <th>0</th>\n",
       "      <td>4</td>\n",
       "      <td>1</td>\n",
       "      <td>Almería</td>\n",
       "      <td>832312.00</td>\n",
       "      <td>753920.0</td>\n",
       "      <td>0.905814</td>\n",
       "    </tr>\n",
       "    <tr>\n",
       "      <th>1</th>\n",
       "      <td>11</td>\n",
       "      <td>1</td>\n",
       "      <td>Cádiz</td>\n",
       "      <td>612140.92</td>\n",
       "      <td>1250539.0</td>\n",
       "      <td>2.042894</td>\n",
       "    </tr>\n",
       "  </tbody>\n",
       "</table>\n",
       "</div>"
      ],
      "text/plain": [
       "   prov_id  com_id provincia        km2  total_prov  densidad\n",
       "0        4       1   Almería  832312.00    753920.0  0.905814\n",
       "1       11       1     Cádiz  612140.92   1250539.0  2.042894"
      ]
     },
     "execution_count": 16,
     "metadata": {},
     "output_type": "execute_result"
    }
   ],
   "source": [
    "contagio_prov['densidad'] = contagio_prov['total_prov'] / contagio_prov['km2']\n",
    "contagio_prov.head(2)"
   ]
  },
  {
   "cell_type": "code",
   "execution_count": 17,
   "id": "a73ca435",
   "metadata": {},
   "outputs": [],
   "source": [
    "#calculamos el índice y probablilidad de contagio por provincia"
   ]
  },
  {
   "cell_type": "code",
   "execution_count": 18,
   "id": "9e67dacb",
   "metadata": {},
   "outputs": [],
   "source": [
    "contagio_prov['R0'] = contagio_prov.densidad*c\n",
    "contagio_prov['prob_inf'] = 1 - np.exp((-1*contagio_prov.R0*contagio_prov.densidad))"
   ]
  },
  {
   "cell_type": "code",
   "execution_count": 19,
   "id": "552202f7",
   "metadata": {
    "scrolled": false
   },
   "outputs": [
    {
     "data": {
      "text/html": [
       "<div>\n",
       "<style scoped>\n",
       "    .dataframe tbody tr th:only-of-type {\n",
       "        vertical-align: middle;\n",
       "    }\n",
       "\n",
       "    .dataframe tbody tr th {\n",
       "        vertical-align: top;\n",
       "    }\n",
       "\n",
       "    .dataframe thead th {\n",
       "        text-align: right;\n",
       "    }\n",
       "</style>\n",
       "<table border=\"1\" class=\"dataframe\">\n",
       "  <thead>\n",
       "    <tr style=\"text-align: right;\">\n",
       "      <th></th>\n",
       "      <th>prov_id</th>\n",
       "      <th>com_id</th>\n",
       "      <th>provincia</th>\n",
       "      <th>km2</th>\n",
       "      <th>total_prov</th>\n",
       "      <th>densidad</th>\n",
       "      <th>R0</th>\n",
       "      <th>prob_inf</th>\n",
       "    </tr>\n",
       "  </thead>\n",
       "  <tbody>\n",
       "    <tr>\n",
       "      <th>0</th>\n",
       "      <td>4</td>\n",
       "      <td>1</td>\n",
       "      <td>Almería</td>\n",
       "      <td>832312.00</td>\n",
       "      <td>753920.0</td>\n",
       "      <td>0.905814</td>\n",
       "      <td>4.529071</td>\n",
       "      <td>0.983469</td>\n",
       "    </tr>\n",
       "    <tr>\n",
       "      <th>1</th>\n",
       "      <td>11</td>\n",
       "      <td>1</td>\n",
       "      <td>Cádiz</td>\n",
       "      <td>612140.92</td>\n",
       "      <td>1250539.0</td>\n",
       "      <td>2.042894</td>\n",
       "      <td>10.214470</td>\n",
       "      <td>1.000000</td>\n",
       "    </tr>\n",
       "    <tr>\n",
       "      <th>2</th>\n",
       "      <td>14</td>\n",
       "      <td>1</td>\n",
       "      <td>Córdoba</td>\n",
       "      <td>1131334.25</td>\n",
       "      <td>773997.0</td>\n",
       "      <td>0.684145</td>\n",
       "      <td>3.420726</td>\n",
       "      <td>0.903699</td>\n",
       "    </tr>\n",
       "  </tbody>\n",
       "</table>\n",
       "</div>"
      ],
      "text/plain": [
       "   prov_id  com_id provincia         km2  total_prov  densidad         R0  \\\n",
       "0        4       1   Almería   832312.00    753920.0  0.905814   4.529071   \n",
       "1       11       1     Cádiz   612140.92   1250539.0  2.042894  10.214470   \n",
       "2       14       1   Córdoba  1131334.25    773997.0  0.684145   3.420726   \n",
       "\n",
       "   prob_inf  \n",
       "0  0.983469  \n",
       "1  1.000000  \n",
       "2  0.903699  "
      ]
     },
     "execution_count": 19,
     "metadata": {},
     "output_type": "execute_result"
    }
   ],
   "source": [
    "contagio_prov.head(3)"
   ]
  },
  {
   "cell_type": "code",
   "execution_count": 20,
   "id": "9cd0ddfe",
   "metadata": {},
   "outputs": [],
   "source": [
    "#repetimos el proceso por comunidad autónoma:"
   ]
  },
  {
   "cell_type": "code",
   "execution_count": 21,
   "id": "e2120234",
   "metadata": {},
   "outputs": [],
   "source": [
    "coms = contagio_prov.iloc[:,[0,1,3,4]]"
   ]
  },
  {
   "cell_type": "code",
   "execution_count": 22,
   "id": "f69b0138",
   "metadata": {},
   "outputs": [
    {
     "data": {
      "text/html": [
       "<div>\n",
       "<style scoped>\n",
       "    .dataframe tbody tr th:only-of-type {\n",
       "        vertical-align: middle;\n",
       "    }\n",
       "\n",
       "    .dataframe tbody tr th {\n",
       "        vertical-align: top;\n",
       "    }\n",
       "\n",
       "    .dataframe thead th {\n",
       "        text-align: right;\n",
       "    }\n",
       "</style>\n",
       "<table border=\"1\" class=\"dataframe\">\n",
       "  <thead>\n",
       "    <tr style=\"text-align: right;\">\n",
       "      <th></th>\n",
       "      <th>prov_id</th>\n",
       "      <th>com_id</th>\n",
       "      <th>km2</th>\n",
       "      <th>total_prov</th>\n",
       "    </tr>\n",
       "  </thead>\n",
       "  <tbody>\n",
       "    <tr>\n",
       "      <th>0</th>\n",
       "      <td>4</td>\n",
       "      <td>1</td>\n",
       "      <td>832312.0</td>\n",
       "      <td>753920.0</td>\n",
       "    </tr>\n",
       "  </tbody>\n",
       "</table>\n",
       "</div>"
      ],
      "text/plain": [
       "   prov_id  com_id       km2  total_prov\n",
       "0        4       1  832312.0    753920.0"
      ]
     },
     "execution_count": 22,
     "metadata": {},
     "output_type": "execute_result"
    }
   ],
   "source": [
    "coms.head(1)"
   ]
  },
  {
   "cell_type": "code",
   "execution_count": 23,
   "id": "7f0f7b91",
   "metadata": {},
   "outputs": [],
   "source": [
    "contagio_com = pd.read_csv('../Data/clean_data/cod_comundades.csv')"
   ]
  },
  {
   "cell_type": "code",
   "execution_count": 24,
   "id": "68745ebd",
   "metadata": {
    "scrolled": true
   },
   "outputs": [
    {
     "data": {
      "text/html": [
       "<div>\n",
       "<style scoped>\n",
       "    .dataframe tbody tr th:only-of-type {\n",
       "        vertical-align: middle;\n",
       "    }\n",
       "\n",
       "    .dataframe tbody tr th {\n",
       "        vertical-align: top;\n",
       "    }\n",
       "\n",
       "    .dataframe thead th {\n",
       "        text-align: right;\n",
       "    }\n",
       "</style>\n",
       "<table border=\"1\" class=\"dataframe\">\n",
       "  <thead>\n",
       "    <tr style=\"text-align: right;\">\n",
       "      <th></th>\n",
       "      <th>com_id</th>\n",
       "      <th>comunidad</th>\n",
       "    </tr>\n",
       "  </thead>\n",
       "  <tbody>\n",
       "    <tr>\n",
       "      <th>0</th>\n",
       "      <td>1</td>\n",
       "      <td>Andalucía</td>\n",
       "    </tr>\n",
       "  </tbody>\n",
       "</table>\n",
       "</div>"
      ],
      "text/plain": [
       "   com_id  comunidad\n",
       "0       1  Andalucía"
      ]
     },
     "execution_count": 24,
     "metadata": {},
     "output_type": "execute_result"
    }
   ],
   "source": [
    "contagio_com.head(1)"
   ]
  },
  {
   "cell_type": "code",
   "execution_count": 25,
   "id": "7de03313",
   "metadata": {},
   "outputs": [],
   "source": [
    "#población, superficie y densidad de pobalción por comunidad a partir de datos de provincia:"
   ]
  },
  {
   "cell_type": "code",
   "execution_count": 26,
   "id": "6d72a150",
   "metadata": {},
   "outputs": [],
   "source": [
    "contagio_prov['km2'] = contagio_prov.prov_id.apply(lambda x: sum(densidad[densidad.prov_id == x]['km2']))"
   ]
  },
  {
   "cell_type": "code",
   "execution_count": 27,
   "id": "7d747ea4",
   "metadata": {},
   "outputs": [],
   "source": [
    "contagio_com['km2'] = contagio_com.com_id.apply(lambda x: sum(contagio_prov[contagio_prov.com_id == x]['km2']))"
   ]
  },
  {
   "cell_type": "code",
   "execution_count": 28,
   "id": "217645f6",
   "metadata": {},
   "outputs": [],
   "source": [
    "contagio_com['total_com'] = contagio_com.com_id.apply(lambda x: sum(contagio_prov[contagio_prov.com_id == x]['total_prov']))"
   ]
  },
  {
   "cell_type": "code",
   "execution_count": 29,
   "id": "188d6ae9",
   "metadata": {},
   "outputs": [
    {
     "data": {
      "text/html": [
       "<div>\n",
       "<style scoped>\n",
       "    .dataframe tbody tr th:only-of-type {\n",
       "        vertical-align: middle;\n",
       "    }\n",
       "\n",
       "    .dataframe tbody tr th {\n",
       "        vertical-align: top;\n",
       "    }\n",
       "\n",
       "    .dataframe thead th {\n",
       "        text-align: right;\n",
       "    }\n",
       "</style>\n",
       "<table border=\"1\" class=\"dataframe\">\n",
       "  <thead>\n",
       "    <tr style=\"text-align: right;\">\n",
       "      <th></th>\n",
       "      <th>com_id</th>\n",
       "      <th>comunidad</th>\n",
       "      <th>km2</th>\n",
       "      <th>total_com</th>\n",
       "      <th>densidad</th>\n",
       "    </tr>\n",
       "  </thead>\n",
       "  <tbody>\n",
       "    <tr>\n",
       "      <th>0</th>\n",
       "      <td>1</td>\n",
       "      <td>Andalucía</td>\n",
       "      <td>7763487.17</td>\n",
       "      <td>8570528.0</td>\n",
       "      <td>1.103953</td>\n",
       "    </tr>\n",
       "    <tr>\n",
       "      <th>1</th>\n",
       "      <td>2</td>\n",
       "      <td>Aragón</td>\n",
       "      <td>4407470.00</td>\n",
       "      <td>1339759.0</td>\n",
       "      <td>0.303975</td>\n",
       "    </tr>\n",
       "  </tbody>\n",
       "</table>\n",
       "</div>"
      ],
      "text/plain": [
       "   com_id  comunidad         km2  total_com  densidad\n",
       "0       1  Andalucía  7763487.17  8570528.0  1.103953\n",
       "1       2     Aragón  4407470.00  1339759.0  0.303975"
      ]
     },
     "execution_count": 29,
     "metadata": {},
     "output_type": "execute_result"
    }
   ],
   "source": [
    "contagio_com['densidad'] = contagio_com['total_com'] / contagio_com['km2']\n",
    "contagio_com.head(2)"
   ]
  },
  {
   "cell_type": "code",
   "execution_count": 30,
   "id": "9eb5ab25",
   "metadata": {
    "scrolled": false
   },
   "outputs": [
    {
     "data": {
      "text/html": [
       "<div>\n",
       "<style scoped>\n",
       "    .dataframe tbody tr th:only-of-type {\n",
       "        vertical-align: middle;\n",
       "    }\n",
       "\n",
       "    .dataframe tbody tr th {\n",
       "        vertical-align: top;\n",
       "    }\n",
       "\n",
       "    .dataframe thead th {\n",
       "        text-align: right;\n",
       "    }\n",
       "</style>\n",
       "<table border=\"1\" class=\"dataframe\">\n",
       "  <thead>\n",
       "    <tr style=\"text-align: right;\">\n",
       "      <th></th>\n",
       "      <th>com_id</th>\n",
       "      <th>comunidad</th>\n",
       "      <th>km2</th>\n",
       "      <th>total_com</th>\n",
       "      <th>densidad</th>\n",
       "    </tr>\n",
       "  </thead>\n",
       "  <tbody>\n",
       "    <tr>\n",
       "      <th>0</th>\n",
       "      <td>1</td>\n",
       "      <td>Andalucía</td>\n",
       "      <td>7763487.17</td>\n",
       "      <td>8570528.0</td>\n",
       "      <td>1.103953</td>\n",
       "    </tr>\n",
       "  </tbody>\n",
       "</table>\n",
       "</div>"
      ],
      "text/plain": [
       "   com_id  comunidad         km2  total_com  densidad\n",
       "0       1  Andalucía  7763487.17  8570528.0  1.103953"
      ]
     },
     "execution_count": 30,
     "metadata": {},
     "output_type": "execute_result"
    }
   ],
   "source": [
    "contagio_com.head(1)"
   ]
  },
  {
   "cell_type": "code",
   "execution_count": 31,
   "id": "a1fffbbf",
   "metadata": {},
   "outputs": [],
   "source": [
    "#índice y probabilidad de contagio por comunidad:"
   ]
  },
  {
   "cell_type": "code",
   "execution_count": 32,
   "id": "9b40cce3",
   "metadata": {},
   "outputs": [],
   "source": [
    "contagio_com['R0'] = contagio_com.densidad*c\n",
    "contagio_com['prob_inf'] = 1 - np.exp((-1*contagio_com.R0*contagio_com.densidad))"
   ]
  },
  {
   "cell_type": "code",
   "execution_count": 33,
   "id": "ce3bf57e",
   "metadata": {},
   "outputs": [
    {
     "data": {
      "text/html": [
       "<div>\n",
       "<style scoped>\n",
       "    .dataframe tbody tr th:only-of-type {\n",
       "        vertical-align: middle;\n",
       "    }\n",
       "\n",
       "    .dataframe tbody tr th {\n",
       "        vertical-align: top;\n",
       "    }\n",
       "\n",
       "    .dataframe thead th {\n",
       "        text-align: right;\n",
       "    }\n",
       "</style>\n",
       "<table border=\"1\" class=\"dataframe\">\n",
       "  <thead>\n",
       "    <tr style=\"text-align: right;\">\n",
       "      <th></th>\n",
       "      <th>com_id</th>\n",
       "      <th>comunidad</th>\n",
       "      <th>km2</th>\n",
       "      <th>total_com</th>\n",
       "      <th>densidad</th>\n",
       "      <th>R0</th>\n",
       "      <th>prob_inf</th>\n",
       "    </tr>\n",
       "  </thead>\n",
       "  <tbody>\n",
       "    <tr>\n",
       "      <th>0</th>\n",
       "      <td>1</td>\n",
       "      <td>Andalucía</td>\n",
       "      <td>7763487.17</td>\n",
       "      <td>8570528.0</td>\n",
       "      <td>1.103953</td>\n",
       "      <td>5.519767</td>\n",
       "      <td>0.997743</td>\n",
       "    </tr>\n",
       "  </tbody>\n",
       "</table>\n",
       "</div>"
      ],
      "text/plain": [
       "   com_id  comunidad         km2  total_com  densidad        R0  prob_inf\n",
       "0       1  Andalucía  7763487.17  8570528.0  1.103953  5.519767  0.997743"
      ]
     },
     "execution_count": 33,
     "metadata": {},
     "output_type": "execute_result"
    }
   ],
   "source": [
    "contagio_com.head(1)"
   ]
  },
  {
   "cell_type": "code",
   "execution_count": 34,
   "id": "f244f746",
   "metadata": {},
   "outputs": [],
   "source": [
    "#contagio_com.to_csv('contagio_comunidades.csv', encoding='utf-8-sig', index = False)"
   ]
  },
  {
   "cell_type": "code",
   "execution_count": 35,
   "id": "0e66bc61",
   "metadata": {},
   "outputs": [],
   "source": [
    "#quitamos la columna de com_id de la tabla de contagio por provincia:"
   ]
  },
  {
   "cell_type": "code",
   "execution_count": 36,
   "id": "65291247",
   "metadata": {},
   "outputs": [],
   "source": [
    "#contagio_prov.drop(columns=['com_id'], inplace = True)"
   ]
  },
  {
   "cell_type": "code",
   "execution_count": 37,
   "id": "25e3bac7",
   "metadata": {},
   "outputs": [
    {
     "data": {
      "text/html": [
       "<div>\n",
       "<style scoped>\n",
       "    .dataframe tbody tr th:only-of-type {\n",
       "        vertical-align: middle;\n",
       "    }\n",
       "\n",
       "    .dataframe tbody tr th {\n",
       "        vertical-align: top;\n",
       "    }\n",
       "\n",
       "    .dataframe thead th {\n",
       "        text-align: right;\n",
       "    }\n",
       "</style>\n",
       "<table border=\"1\" class=\"dataframe\">\n",
       "  <thead>\n",
       "    <tr style=\"text-align: right;\">\n",
       "      <th></th>\n",
       "      <th>prov_id</th>\n",
       "      <th>com_id</th>\n",
       "      <th>provincia</th>\n",
       "      <th>km2</th>\n",
       "      <th>total_prov</th>\n",
       "      <th>densidad</th>\n",
       "      <th>R0</th>\n",
       "      <th>prob_inf</th>\n",
       "    </tr>\n",
       "  </thead>\n",
       "  <tbody>\n",
       "    <tr>\n",
       "      <th>0</th>\n",
       "      <td>4</td>\n",
       "      <td>1</td>\n",
       "      <td>Almería</td>\n",
       "      <td>832312.00</td>\n",
       "      <td>753920.0</td>\n",
       "      <td>0.905814</td>\n",
       "      <td>4.529071</td>\n",
       "      <td>0.983469</td>\n",
       "    </tr>\n",
       "    <tr>\n",
       "      <th>1</th>\n",
       "      <td>11</td>\n",
       "      <td>1</td>\n",
       "      <td>Cádiz</td>\n",
       "      <td>612140.92</td>\n",
       "      <td>1250539.0</td>\n",
       "      <td>2.042894</td>\n",
       "      <td>10.214470</td>\n",
       "      <td>1.000000</td>\n",
       "    </tr>\n",
       "  </tbody>\n",
       "</table>\n",
       "</div>"
      ],
      "text/plain": [
       "   prov_id  com_id provincia        km2  total_prov  densidad         R0  \\\n",
       "0        4       1   Almería  832312.00    753920.0  0.905814   4.529071   \n",
       "1       11       1     Cádiz  612140.92   1250539.0  2.042894  10.214470   \n",
       "\n",
       "   prob_inf  \n",
       "0  0.983469  \n",
       "1  1.000000  "
      ]
     },
     "execution_count": 37,
     "metadata": {},
     "output_type": "execute_result"
    }
   ],
   "source": [
    "contagio_prov.head(2)"
   ]
  },
  {
   "cell_type": "code",
   "execution_count": 38,
   "id": "3c681469",
   "metadata": {},
   "outputs": [],
   "source": [
    "#contagio_prov.to_csv('contagio_provincias.csv', encoding='utf-8-sig', index = False)"
   ]
  }
 ],
 "metadata": {
  "kernelspec": {
   "display_name": "Python 3 (ipykernel)",
   "language": "python",
   "name": "python3"
  },
  "language_info": {
   "codemirror_mode": {
    "name": "ipython",
    "version": 3
   },
   "file_extension": ".py",
   "mimetype": "text/x-python",
   "name": "python",
   "nbconvert_exporter": "python",
   "pygments_lexer": "ipython3",
   "version": "3.11.5"
  }
 },
 "nbformat": 4,
 "nbformat_minor": 5
}
