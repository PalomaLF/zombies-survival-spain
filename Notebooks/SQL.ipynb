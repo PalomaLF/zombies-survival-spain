{
 "cells": [
  {
   "cell_type": "code",
   "execution_count": 1,
   "id": "82e9d167",
   "metadata": {},
   "outputs": [],
   "source": [
    "import pandas as pd\n",
    "import numpy as np\n",
    "import re\n",
    "import seaborn as sns\n",
    "import matplotlib.pyplot as plt\n",
    "from bs4 import BeautifulSoup as bs\n",
    "import requests"
   ]
  },
  {
   "cell_type": "code",
   "execution_count": 2,
   "id": "4ed827bf",
   "metadata": {},
   "outputs": [
    {
     "data": {
      "text/html": [
       "<div>\n",
       "<style scoped>\n",
       "    .dataframe tbody tr th:only-of-type {\n",
       "        vertical-align: middle;\n",
       "    }\n",
       "\n",
       "    .dataframe tbody tr th {\n",
       "        vertical-align: top;\n",
       "    }\n",
       "\n",
       "    .dataframe thead th {\n",
       "        text-align: right;\n",
       "    }\n",
       "</style>\n",
       "<table border=\"1\" class=\"dataframe\">\n",
       "  <thead>\n",
       "    <tr style=\"text-align: right;\">\n",
       "      <th></th>\n",
       "      <th>com_id</th>\n",
       "      <th>prov_id</th>\n",
       "      <th>mun_id</th>\n",
       "      <th>NOMBRE</th>\n",
       "    </tr>\n",
       "  </thead>\n",
       "  <tbody>\n",
       "    <tr>\n",
       "      <th>0</th>\n",
       "      <td>16</td>\n",
       "      <td>1</td>\n",
       "      <td>1051</td>\n",
       "      <td>Agurain/Salvatierra</td>\n",
       "    </tr>\n",
       "  </tbody>\n",
       "</table>\n",
       "</div>"
      ],
      "text/plain": [
       "   com_id  prov_id  mun_id               NOMBRE\n",
       "0      16        1    1051  Agurain/Salvatierra"
      ]
     },
     "execution_count": 2,
     "metadata": {},
     "output_type": "execute_result"
    }
   ],
   "source": [
    "mun_codes = pd.read_csv('../Data/clean_data/mun_codes.csv')\n",
    "mun_codes.head(1)"
   ]
  },
  {
   "cell_type": "code",
   "execution_count": 3,
   "id": "b4a44129",
   "metadata": {},
   "outputs": [],
   "source": [
    "prov_codes = pd.read_csv('../Data/clean_data/cod_provincias.csv')"
   ]
  },
  {
   "cell_type": "code",
   "execution_count": 4,
   "id": "13341079",
   "metadata": {},
   "outputs": [],
   "source": [
    "com_codes = pd.read_csv('../Data/clean_data/cod_comundades.csv')"
   ]
  },
  {
   "cell_type": "code",
   "execution_count": 5,
   "id": "51208bfb",
   "metadata": {},
   "outputs": [],
   "source": [
    "provs = pd.read_csv('../Data/clean_data/contagio_provincias.csv')"
   ]
  },
  {
   "cell_type": "code",
   "execution_count": 6,
   "id": "b569e006",
   "metadata": {},
   "outputs": [],
   "source": [
    "muns = pd.read_csv('../Data/clean_data/contagio_municipios.csv')"
   ]
  },
  {
   "cell_type": "code",
   "execution_count": 7,
   "id": "771b8e1d",
   "metadata": {},
   "outputs": [],
   "source": [
    "coms = pd.read_csv('../Data/clean_data/contagio_comunidades.csv')"
   ]
  },
  {
   "cell_type": "code",
   "execution_count": 8,
   "id": "cf129ca1",
   "metadata": {},
   "outputs": [],
   "source": [
    "#uploading data to our mysql database"
   ]
  },
  {
   "cell_type": "code",
   "execution_count": 9,
   "id": "fc995691",
   "metadata": {},
   "outputs": [],
   "source": [
    "from sqlalchemy import create_engine\n",
    "from sqlalchemy import text\n",
    "import passwords"
   ]
  },
  {
   "cell_type": "code",
   "execution_count": 10,
   "id": "275d0153",
   "metadata": {},
   "outputs": [],
   "source": [
    "password = passwords.password_sql"
   ]
  },
  {
   "cell_type": "code",
   "execution_count": 11,
   "id": "29addbc9",
   "metadata": {},
   "outputs": [],
   "source": [
    "connection_string = 'mysql+pymysql://root:' + password + '@localhost:3306/zombies'"
   ]
  },
  {
   "cell_type": "code",
   "execution_count": 12,
   "id": "24ab3c07",
   "metadata": {},
   "outputs": [],
   "source": [
    "engine = create_engine(connection_string)"
   ]
  },
  {
   "cell_type": "code",
   "execution_count": 13,
   "id": "903f9057",
   "metadata": {},
   "outputs": [
    {
     "data": {
      "text/plain": [
       "19"
      ]
     },
     "execution_count": 13,
     "metadata": {},
     "output_type": "execute_result"
    }
   ],
   "source": [
    "#códigos de comunidades autónomas:\n",
    "com_codes.to_sql(name = 'cod_comunidades',\n",
    "                  con = engine,\n",
    "                  if_exists = 'append', \n",
    "                 index = False)"
   ]
  },
  {
   "cell_type": "code",
   "execution_count": 14,
   "id": "328f9a64",
   "metadata": {},
   "outputs": [
    {
     "data": {
      "text/plain": [
       "19"
      ]
     },
     "execution_count": 14,
     "metadata": {},
     "output_type": "execute_result"
    }
   ],
   "source": [
    "#probabilidad de contagio por comunidades autónomas:\n",
    "coms.to_sql(name = 'inf_com',\n",
    "                  con = engine,\n",
    "                  if_exists = 'append', \n",
    "                 index = False)"
   ]
  },
  {
   "cell_type": "code",
   "execution_count": 15,
   "id": "61351f93",
   "metadata": {},
   "outputs": [
    {
     "data": {
      "text/plain": [
       "52"
      ]
     },
     "execution_count": 15,
     "metadata": {},
     "output_type": "execute_result"
    }
   ],
   "source": [
    "#códigos de provincias:\n",
    "prov_codes.to_sql(name = 'cod_provincias',\n",
    "                  con = engine,\n",
    "                  if_exists = 'append', \n",
    "                 index = False)"
   ]
  },
  {
   "cell_type": "code",
   "execution_count": 16,
   "id": "3724e89d",
   "metadata": {},
   "outputs": [
    {
     "data": {
      "text/plain": [
       "52"
      ]
     },
     "execution_count": 16,
     "metadata": {},
     "output_type": "execute_result"
    }
   ],
   "source": [
    "#probabilidad de contagio por provincias:\n",
    "provs.to_sql(name = 'inf_prov',\n",
    "                  con = engine,\n",
    "                  if_exists = 'append', \n",
    "                 index = False)\n"
   ]
  },
  {
   "cell_type": "code",
   "execution_count": 17,
   "id": "16f339f5",
   "metadata": {},
   "outputs": [
    {
     "data": {
      "text/plain": [
       "8132"
      ]
     },
     "execution_count": 17,
     "metadata": {},
     "output_type": "execute_result"
    }
   ],
   "source": [
    "#códigos de municipios:\n",
    "mun_codes.to_sql(name = 'cod_municipios',\n",
    "                  con = engine,\n",
    "                  if_exists = 'append', \n",
    "                 index = False)\n"
   ]
  },
  {
   "cell_type": "code",
   "execution_count": 18,
   "id": "97d1202a",
   "metadata": {},
   "outputs": [
    {
     "data": {
      "text/plain": [
       "8163"
      ]
     },
     "execution_count": 18,
     "metadata": {},
     "output_type": "execute_result"
    }
   ],
   "source": [
    "#probabilidad de contagio por municipios:\n",
    "muns.to_sql(name = 'inf_muns',\n",
    "                  con = engine,\n",
    "                  if_exists = 'append', \n",
    "                 index = False)\n"
   ]
  }
 ],
 "metadata": {
  "kernelspec": {
   "display_name": "Python 3 (ipykernel)",
   "language": "python",
   "name": "python3"
  },
  "language_info": {
   "codemirror_mode": {
    "name": "ipython",
    "version": 3
   },
   "file_extension": ".py",
   "mimetype": "text/x-python",
   "name": "python",
   "nbconvert_exporter": "python",
   "pygments_lexer": "ipython3",
   "version": "3.11.5"
  }
 },
 "nbformat": 4,
 "nbformat_minor": 5
}
